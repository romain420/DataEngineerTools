{
 "cells": [
  {
   "cell_type": "markdown",
   "metadata": {},
   "source": [
    "# Consignes\n",
    "\n",
    "Intégrer le fichier USvideos.csv qui représente un ensemble de 8000 vidéos Youtube. \n",
    "\n",
    "Merger le fichier US_category_id.json pour récupérer le nom des catégories. Il conviendra de bien spécifier l'ID du document.\n",
    "\n",
    "\n",
    "# Questions \n",
    "- 1) Récupérer toutes les vidéos de la chaîne Apple.\n",
    "- 2) Compter le nombre de catégories différentes\n",
    "- 3) Si vous ne l'avez pas déjà fait, découper les tags en listes et mettre à jour les tags de chacun des documents avec une requête update.\n",
    "- 4) Récupérer les vidéos les plus vues.\n",
    "- 5) Compter le nombre moyen de vues en fonction de la catégorie.\n",
    "- 6) Récupérer les chaines Youtube avec la plus grande moyenne de likes."
   ]
  },
  {
   "cell_type": "code",
   "execution_count": 1,
   "metadata": {},
   "outputs": [
    {
     "name": "stderr",
     "output_type": "stream",
     "text": [
      "/root/.local/share/virtualenvs/code-AFz48Hjb/lib/python3.8/site-packages/requests/__init__.py:89: RequestsDependencyWarning: urllib3 (1.26.7) or chardet (3.0.4) doesn't match a supported version!\n",
      "  warnings.warn(\"urllib3 ({}) or chardet ({}) doesn't match a supported \"\n"
     ]
    }
   ],
   "source": [
    "import pandas as pd\n",
    "import pymongo\n",
    "import json"
   ]
  },
  {
   "cell_type": "code",
   "execution_count": 2,
   "metadata": {},
   "outputs": [],
   "source": [
    "client = pymongo.MongoClient('mongo')\n",
    "database = client['exercices']\n",
    "collection = database['youtube']"
   ]
  },
  {
   "cell_type": "code",
   "execution_count": 3,
   "metadata": {},
   "outputs": [
    {
     "data": {
      "text/html": [
       "<div>\n",
       "<style scoped>\n",
       "    .dataframe tbody tr th:only-of-type {\n",
       "        vertical-align: middle;\n",
       "    }\n",
       "\n",
       "    .dataframe tbody tr th {\n",
       "        vertical-align: top;\n",
       "    }\n",
       "\n",
       "    .dataframe thead th {\n",
       "        text-align: right;\n",
       "    }\n",
       "</style>\n",
       "<table border=\"1\" class=\"dataframe\">\n",
       "  <thead>\n",
       "    <tr style=\"text-align: right;\">\n",
       "      <th></th>\n",
       "      <th>video_id</th>\n",
       "      <th>title</th>\n",
       "      <th>channel_title</th>\n",
       "      <th>category_id</th>\n",
       "      <th>tags</th>\n",
       "      <th>views</th>\n",
       "      <th>likes</th>\n",
       "      <th>dislikes</th>\n",
       "      <th>comment_total</th>\n",
       "      <th>thumbnail_link</th>\n",
       "      <th>date</th>\n",
       "    </tr>\n",
       "  </thead>\n",
       "  <tbody>\n",
       "    <tr>\n",
       "      <th>0</th>\n",
       "      <td>XpVt6Z1Gjjo</td>\n",
       "      <td>1 YEAR OF VLOGGING -- HOW LOGAN PAUL CHANGED Y...</td>\n",
       "      <td>Logan Paul Vlogs</td>\n",
       "      <td>24</td>\n",
       "      <td>logan paul vlog|logan paul|logan|paul|olympics...</td>\n",
       "      <td>4394029</td>\n",
       "      <td>320053</td>\n",
       "      <td>5931</td>\n",
       "      <td>46245</td>\n",
       "      <td>https://i.ytimg.com/vi/XpVt6Z1Gjjo/default.jpg</td>\n",
       "      <td>13.09</td>\n",
       "    </tr>\n",
       "    <tr>\n",
       "      <th>1</th>\n",
       "      <td>K4wEI5zhHB0</td>\n",
       "      <td>iPhone X — Introducing iPhone X — Apple</td>\n",
       "      <td>Apple</td>\n",
       "      <td>28</td>\n",
       "      <td>Apple|iPhone 10|iPhone Ten|iPhone|Portrait Lig...</td>\n",
       "      <td>7860119</td>\n",
       "      <td>185853</td>\n",
       "      <td>26679</td>\n",
       "      <td>0</td>\n",
       "      <td>https://i.ytimg.com/vi/K4wEI5zhHB0/default.jpg</td>\n",
       "      <td>13.09</td>\n",
       "    </tr>\n",
       "  </tbody>\n",
       "</table>\n",
       "</div>"
      ],
      "text/plain": [
       "      video_id                                              title  \\\n",
       "0  XpVt6Z1Gjjo  1 YEAR OF VLOGGING -- HOW LOGAN PAUL CHANGED Y...   \n",
       "1  K4wEI5zhHB0            iPhone X — Introducing iPhone X — Apple   \n",
       "\n",
       "      channel_title  category_id  \\\n",
       "0  Logan Paul Vlogs           24   \n",
       "1             Apple           28   \n",
       "\n",
       "                                                tags    views   likes  \\\n",
       "0  logan paul vlog|logan paul|logan|paul|olympics...  4394029  320053   \n",
       "1  Apple|iPhone 10|iPhone Ten|iPhone|Portrait Lig...  7860119  185853   \n",
       "\n",
       "   dislikes  comment_total                                  thumbnail_link  \\\n",
       "0      5931          46245  https://i.ytimg.com/vi/XpVt6Z1Gjjo/default.jpg   \n",
       "1     26679              0  https://i.ytimg.com/vi/K4wEI5zhHB0/default.jpg   \n",
       "\n",
       "    date  \n",
       "0  13.09  \n",
       "1  13.09  "
      ]
     },
     "execution_count": 3,
     "metadata": {},
     "output_type": "execute_result"
    }
   ],
   "source": [
    "df_youtube = pd.read_csv(\"./data/USvideos.csv\")\n",
    "df_youtube.head(2)"
   ]
  },
  {
   "cell_type": "markdown",
   "metadata": {},
   "source": [
    "## Question 0"
   ]
  },
  {
   "cell_type": "markdown",
   "metadata": {},
   "source": [
    "### Netoyer les données"
   ]
  },
  {
   "cell_type": "code",
   "execution_count": 4,
   "metadata": {},
   "outputs": [
    {
     "data": {
      "text/plain": [
       "video_id           object\n",
       "title              object\n",
       "channel_title      object\n",
       "category_id         int64\n",
       "tags               object\n",
       "views               int64\n",
       "likes               int64\n",
       "dislikes            int64\n",
       "comment_total       int64\n",
       "thumbnail_link     object\n",
       "date              float64\n",
       "dtype: object"
      ]
     },
     "execution_count": 4,
     "metadata": {},
     "output_type": "execute_result"
    }
   ],
   "source": [
    "df_youtube.dtypes"
   ]
  },
  {
   "cell_type": "code",
   "execution_count": 5,
   "metadata": {},
   "outputs": [
    {
     "data": {
      "text/html": [
       "<div>\n",
       "<style scoped>\n",
       "    .dataframe tbody tr th:only-of-type {\n",
       "        vertical-align: middle;\n",
       "    }\n",
       "\n",
       "    .dataframe tbody tr th {\n",
       "        vertical-align: top;\n",
       "    }\n",
       "\n",
       "    .dataframe thead th {\n",
       "        text-align: right;\n",
       "    }\n",
       "</style>\n",
       "<table border=\"1\" class=\"dataframe\">\n",
       "  <thead>\n",
       "    <tr style=\"text-align: right;\">\n",
       "      <th></th>\n",
       "      <th>video_id</th>\n",
       "      <th>title</th>\n",
       "      <th>channel_title</th>\n",
       "      <th>category_id</th>\n",
       "      <th>tags</th>\n",
       "      <th>views</th>\n",
       "      <th>likes</th>\n",
       "      <th>dislikes</th>\n",
       "      <th>comment_total</th>\n",
       "      <th>thumbnail_link</th>\n",
       "      <th>date</th>\n",
       "    </tr>\n",
       "  </thead>\n",
       "  <tbody>\n",
       "    <tr>\n",
       "      <th>0</th>\n",
       "      <td>XpVt6Z1Gjjo</td>\n",
       "      <td>1 YEAR OF VLOGGING -- HOW LOGAN PAUL CHANGED Y...</td>\n",
       "      <td>Logan Paul Vlogs</td>\n",
       "      <td>24</td>\n",
       "      <td>logan paul vlog|logan paul|logan|paul|olympics...</td>\n",
       "      <td>4394029</td>\n",
       "      <td>320053</td>\n",
       "      <td>5931</td>\n",
       "      <td>46245</td>\n",
       "      <td>https://i.ytimg.com/vi/XpVt6Z1Gjjo/default.jpg</td>\n",
       "      <td>13.09</td>\n",
       "    </tr>\n",
       "    <tr>\n",
       "      <th>1</th>\n",
       "      <td>K4wEI5zhHB0</td>\n",
       "      <td>iPhone X — Introducing iPhone X — Apple</td>\n",
       "      <td>Apple</td>\n",
       "      <td>28</td>\n",
       "      <td>Apple|iPhone 10|iPhone Ten|iPhone|Portrait Lig...</td>\n",
       "      <td>7860119</td>\n",
       "      <td>185853</td>\n",
       "      <td>26679</td>\n",
       "      <td>0</td>\n",
       "      <td>https://i.ytimg.com/vi/K4wEI5zhHB0/default.jpg</td>\n",
       "      <td>13.09</td>\n",
       "    </tr>\n",
       "    <tr>\n",
       "      <th>2</th>\n",
       "      <td>cLdxuaxaQwc</td>\n",
       "      <td>My Response</td>\n",
       "      <td>PewDiePie</td>\n",
       "      <td>22</td>\n",
       "      <td>[none]</td>\n",
       "      <td>5845909</td>\n",
       "      <td>576597</td>\n",
       "      <td>39774</td>\n",
       "      <td>170708</td>\n",
       "      <td>https://i.ytimg.com/vi/cLdxuaxaQwc/default.jpg</td>\n",
       "      <td>13.09</td>\n",
       "    </tr>\n",
       "    <tr>\n",
       "      <th>3</th>\n",
       "      <td>WYYvHb03Eog</td>\n",
       "      <td>Apple iPhone X first look</td>\n",
       "      <td>The Verge</td>\n",
       "      <td>28</td>\n",
       "      <td>apple iphone x hands on|Apple iPhone X|iPhone ...</td>\n",
       "      <td>2642103</td>\n",
       "      <td>24975</td>\n",
       "      <td>4542</td>\n",
       "      <td>12829</td>\n",
       "      <td>https://i.ytimg.com/vi/WYYvHb03Eog/default.jpg</td>\n",
       "      <td>13.09</td>\n",
       "    </tr>\n",
       "    <tr>\n",
       "      <th>4</th>\n",
       "      <td>sjlHnJvXdQs</td>\n",
       "      <td>iPhone X (parody)</td>\n",
       "      <td>jacksfilms</td>\n",
       "      <td>23</td>\n",
       "      <td>jacksfilms|parody|parodies|iphone|iphone x|iph...</td>\n",
       "      <td>1168130</td>\n",
       "      <td>96666</td>\n",
       "      <td>568</td>\n",
       "      <td>6666</td>\n",
       "      <td>https://i.ytimg.com/vi/sjlHnJvXdQs/default.jpg</td>\n",
       "      <td>13.09</td>\n",
       "    </tr>\n",
       "    <tr>\n",
       "      <th>...</th>\n",
       "      <td>...</td>\n",
       "      <td>...</td>\n",
       "      <td>...</td>\n",
       "      <td>...</td>\n",
       "      <td>...</td>\n",
       "      <td>...</td>\n",
       "      <td>...</td>\n",
       "      <td>...</td>\n",
       "      <td>...</td>\n",
       "      <td>...</td>\n",
       "      <td>...</td>\n",
       "    </tr>\n",
       "    <tr>\n",
       "      <th>7987</th>\n",
       "      <td>xlu6i6lT_vk</td>\n",
       "      <td>How Do MASSIVE Sinkholes Form?</td>\n",
       "      <td>Life Noggin</td>\n",
       "      <td>27</td>\n",
       "      <td>sinkhole|how do sinkholes form|sinkhole in wat...</td>\n",
       "      <td>440393</td>\n",
       "      <td>14362</td>\n",
       "      <td>390</td>\n",
       "      <td>1575</td>\n",
       "      <td>https://i.ytimg.com/vi/xlu6i6lT_vk/default.jpg</td>\n",
       "      <td>22.10</td>\n",
       "    </tr>\n",
       "    <tr>\n",
       "      <th>7988</th>\n",
       "      <td>qRoVlH1OcI4</td>\n",
       "      <td>Trump slams Clinton for defending NFL anthem p...</td>\n",
       "      <td>Business Insider</td>\n",
       "      <td>25</td>\n",
       "      <td>Business Insider|Donald Trump|Hillary Clinton|...</td>\n",
       "      <td>55762</td>\n",
       "      <td>1265</td>\n",
       "      <td>760</td>\n",
       "      <td>1873</td>\n",
       "      <td>https://i.ytimg.com/vi/qRoVlH1OcI4/default.jpg</td>\n",
       "      <td>22.10</td>\n",
       "    </tr>\n",
       "    <tr>\n",
       "      <th>7989</th>\n",
       "      <td>EoejGgUNmVU</td>\n",
       "      <td>LP - Lost On You (A Night at The McKittrick Ho...</td>\n",
       "      <td>LP</td>\n",
       "      <td>10</td>\n",
       "      <td>LP|Death Valley|Other People|Lost On You|The M...</td>\n",
       "      <td>142908</td>\n",
       "      <td>7088</td>\n",
       "      <td>68</td>\n",
       "      <td>437</td>\n",
       "      <td>https://i.ytimg.com/vi/EoejGgUNmVU/default.jpg</td>\n",
       "      <td>22.10</td>\n",
       "    </tr>\n",
       "    <tr>\n",
       "      <th>7990</th>\n",
       "      <td>MT1CMTI0EVw</td>\n",
       "      <td>Tré Melvin @ #YouTubeBlack FanFest Washington ...</td>\n",
       "      <td>YouTube FanFest</td>\n",
       "      <td>24</td>\n",
       "      <td>YouTube FanFest|#YTFF|Washington DC|USA|YTFF|#...</td>\n",
       "      <td>24532</td>\n",
       "      <td>2148</td>\n",
       "      <td>77</td>\n",
       "      <td>0</td>\n",
       "      <td>https://i.ytimg.com/vi/MT1CMTI0EVw/default.jpg</td>\n",
       "      <td>22.10</td>\n",
       "    </tr>\n",
       "    <tr>\n",
       "      <th>7991</th>\n",
       "      <td>AFxLA3RGjnc</td>\n",
       "      <td>First cosmic event seen in gravitational waves...</td>\n",
       "      <td>National Science Foundation</td>\n",
       "      <td>28</td>\n",
       "      <td>LIGO|Virgo|collaboration|space|science|nationa...</td>\n",
       "      <td>144039</td>\n",
       "      <td>1574</td>\n",
       "      <td>59</td>\n",
       "      <td>0</td>\n",
       "      <td>https://i.ytimg.com/vi/AFxLA3RGjnc/default.jpg</td>\n",
       "      <td>22.10</td>\n",
       "    </tr>\n",
       "  </tbody>\n",
       "</table>\n",
       "<p>7992 rows × 11 columns</p>\n",
       "</div>"
      ],
      "text/plain": [
       "         video_id                                              title  \\\n",
       "0     XpVt6Z1Gjjo  1 YEAR OF VLOGGING -- HOW LOGAN PAUL CHANGED Y...   \n",
       "1     K4wEI5zhHB0            iPhone X — Introducing iPhone X — Apple   \n",
       "2     cLdxuaxaQwc                                        My Response   \n",
       "3     WYYvHb03Eog                          Apple iPhone X first look   \n",
       "4     sjlHnJvXdQs                                  iPhone X (parody)   \n",
       "...           ...                                                ...   \n",
       "7987  xlu6i6lT_vk                     How Do MASSIVE Sinkholes Form?   \n",
       "7988  qRoVlH1OcI4  Trump slams Clinton for defending NFL anthem p...   \n",
       "7989  EoejGgUNmVU  LP - Lost On You (A Night at The McKittrick Ho...   \n",
       "7990  MT1CMTI0EVw  Tré Melvin @ #YouTubeBlack FanFest Washington ...   \n",
       "7991  AFxLA3RGjnc  First cosmic event seen in gravitational waves...   \n",
       "\n",
       "                    channel_title  category_id  \\\n",
       "0                Logan Paul Vlogs           24   \n",
       "1                           Apple           28   \n",
       "2                       PewDiePie           22   \n",
       "3                       The Verge           28   \n",
       "4                      jacksfilms           23   \n",
       "...                           ...          ...   \n",
       "7987                  Life Noggin           27   \n",
       "7988             Business Insider           25   \n",
       "7989                           LP           10   \n",
       "7990              YouTube FanFest           24   \n",
       "7991  National Science Foundation           28   \n",
       "\n",
       "                                                   tags    views   likes  \\\n",
       "0     logan paul vlog|logan paul|logan|paul|olympics...  4394029  320053   \n",
       "1     Apple|iPhone 10|iPhone Ten|iPhone|Portrait Lig...  7860119  185853   \n",
       "2                                                [none]  5845909  576597   \n",
       "3     apple iphone x hands on|Apple iPhone X|iPhone ...  2642103   24975   \n",
       "4     jacksfilms|parody|parodies|iphone|iphone x|iph...  1168130   96666   \n",
       "...                                                 ...      ...     ...   \n",
       "7987  sinkhole|how do sinkholes form|sinkhole in wat...   440393   14362   \n",
       "7988  Business Insider|Donald Trump|Hillary Clinton|...    55762    1265   \n",
       "7989  LP|Death Valley|Other People|Lost On You|The M...   142908    7088   \n",
       "7990  YouTube FanFest|#YTFF|Washington DC|USA|YTFF|#...    24532    2148   \n",
       "7991  LIGO|Virgo|collaboration|space|science|nationa...   144039    1574   \n",
       "\n",
       "      dislikes  comment_total                                  thumbnail_link  \\\n",
       "0         5931          46245  https://i.ytimg.com/vi/XpVt6Z1Gjjo/default.jpg   \n",
       "1        26679              0  https://i.ytimg.com/vi/K4wEI5zhHB0/default.jpg   \n",
       "2        39774         170708  https://i.ytimg.com/vi/cLdxuaxaQwc/default.jpg   \n",
       "3         4542          12829  https://i.ytimg.com/vi/WYYvHb03Eog/default.jpg   \n",
       "4          568           6666  https://i.ytimg.com/vi/sjlHnJvXdQs/default.jpg   \n",
       "...        ...            ...                                             ...   \n",
       "7987       390           1575  https://i.ytimg.com/vi/xlu6i6lT_vk/default.jpg   \n",
       "7988       760           1873  https://i.ytimg.com/vi/qRoVlH1OcI4/default.jpg   \n",
       "7989        68            437  https://i.ytimg.com/vi/EoejGgUNmVU/default.jpg   \n",
       "7990        77              0  https://i.ytimg.com/vi/MT1CMTI0EVw/default.jpg   \n",
       "7991        59              0  https://i.ytimg.com/vi/AFxLA3RGjnc/default.jpg   \n",
       "\n",
       "       date  \n",
       "0     13.09  \n",
       "1     13.09  \n",
       "2     13.09  \n",
       "3     13.09  \n",
       "4     13.09  \n",
       "...     ...  \n",
       "7987  22.10  \n",
       "7988  22.10  \n",
       "7989  22.10  \n",
       "7990  22.10  \n",
       "7991  22.10  \n",
       "\n",
       "[7992 rows x 11 columns]"
      ]
     },
     "execution_count": 5,
     "metadata": {},
     "output_type": "execute_result"
    }
   ],
   "source": [
    "df_youtube.dropna().drop_duplicates()"
   ]
  },
  {
   "cell_type": "code",
   "execution_count": null,
   "metadata": {},
   "outputs": [],
   "source": []
  },
  {
   "cell_type": "markdown",
   "metadata": {
    "slideshow": {
     "slide_type": "slide"
    }
   },
   "source": [
    "### Importer les données"
   ]
  },
  {
   "cell_type": "code",
   "execution_count": 6,
   "metadata": {},
   "outputs": [],
   "source": [
    "collection_yt = collection"
   ]
  },
  {
   "cell_type": "code",
   "execution_count": 7,
   "metadata": {},
   "outputs": [
    {
     "data": {
      "text/plain": [
       "<pymongo.results.DeleteResult at 0x7f1244ea07c0>"
      ]
     },
     "execution_count": 7,
     "metadata": {},
     "output_type": "execute_result"
    }
   ],
   "source": [
    "#vidage de la collection \n",
    "collection_yt.delete_many({})"
   ]
  },
  {
   "cell_type": "code",
   "execution_count": 8,
   "metadata": {},
   "outputs": [],
   "source": [
    "#creation d'une chaine de caractere \n",
    "db_youtube = df_youtube.to_json(orient = 'records')"
   ]
  },
  {
   "cell_type": "code",
   "execution_count": 9,
   "metadata": {},
   "outputs": [
    {
     "data": {
      "text/plain": [
       "5000655"
      ]
     },
     "execution_count": 9,
     "metadata": {},
     "output_type": "execute_result"
    }
   ],
   "source": [
    "from pathlib import Path\n",
    "import json\n",
    "Path(\"./yt.json\").write_text(json.dumps(json.loads(db_youtube), indent=4))"
   ]
  },
  {
   "cell_type": "code",
   "execution_count": 10,
   "metadata": {},
   "outputs": [],
   "source": [
    "yt_json = json.loads(db_youtube)\n"
   ]
  },
  {
   "cell_type": "code",
   "execution_count": 11,
   "metadata": {},
   "outputs": [
    {
     "data": {
      "text/plain": [
       "69152"
      ]
     },
     "execution_count": 11,
     "metadata": {},
     "output_type": "execute_result"
    }
   ],
   "source": [
    "import sys\n",
    "sys.getsizeof(yt_json)"
   ]
  },
  {
   "cell_type": "code",
   "execution_count": 12,
   "metadata": {},
   "outputs": [
    {
     "data": {
      "text/plain": [
       "{'video_id': 'XpVt6Z1Gjjo',\n",
       " 'title': '1 YEAR OF VLOGGING -- HOW LOGAN PAUL CHANGED YOUTUBE FOREVER!',\n",
       " 'channel_title': 'Logan Paul Vlogs',\n",
       " 'category_id': 24,\n",
       " 'tags': 'logan paul vlog|logan paul|logan|paul|olympics|logan paul youtube|vlog|daily|comedy|hollywood|parrot|maverick|bird|maverick clothes|diamond play button|logan paul diamond play button|10M subscribers|logan paul 1 year vlogging|1 year vlog|dwarf mamba play button|logan paul history|youtube history|10M|10M plaque|youtube button|diamond button|logang|logang 4 life',\n",
       " 'views': 4394029,\n",
       " 'likes': 320053,\n",
       " 'dislikes': 5931,\n",
       " 'comment_total': 46245,\n",
       " 'thumbnail_link': 'https://i.ytimg.com/vi/XpVt6Z1Gjjo/default.jpg',\n",
       " 'date': 13.09}"
      ]
     },
     "execution_count": 12,
     "metadata": {},
     "output_type": "execute_result"
    }
   ],
   "source": [
    "yt_json[0]"
   ]
  },
  {
   "cell_type": "code",
   "execution_count": 13,
   "metadata": {},
   "outputs": [
    {
     "data": {
      "text/plain": [
       "7992"
      ]
     },
     "execution_count": 13,
     "metadata": {},
     "output_type": "execute_result"
    }
   ],
   "source": [
    "len(yt_json)"
   ]
  },
  {
   "cell_type": "code",
   "execution_count": 14,
   "metadata": {},
   "outputs": [
    {
     "data": {
      "text/plain": [
       "<pymongo.results.InsertManyResult at 0x7f123e2f4240>"
      ]
     },
     "execution_count": 14,
     "metadata": {},
     "output_type": "execute_result"
    }
   ],
   "source": [
    "#remplissage de a collection a partir du csv precedent\n",
    "collection.insert_many(json.loads(db_youtube))"
   ]
  },
  {
   "cell_type": "markdown",
   "metadata": {},
   "source": [
    "## Question 1  "
   ]
  },
  {
   "cell_type": "code",
   "execution_count": 15,
   "metadata": {},
   "outputs": [
    {
     "data": {
      "text/plain": [
       "[{'_id': ObjectId('61b88eea4b2e1a014f950e5c'),\n",
       "  'video_id': 'K4wEI5zhHB0',\n",
       "  'title': 'iPhone X — Introducing iPhone X — Apple'},\n",
       " {'_id': ObjectId('61b88eea4b2e1a014f950f26'),\n",
       "  'video_id': 'K4wEI5zhHB0',\n",
       "  'title': 'iPhone X — Introducing iPhone X — Apple'},\n",
       " {'_id': ObjectId('61b88eea4b2e1a014f950ffe'),\n",
       "  'video_id': 'K4wEI5zhHB0',\n",
       "  'title': 'iPhone X — Introducing iPhone X — Apple'},\n",
       " {'_id': ObjectId('61b88eea4b2e1a014f9510fd'),\n",
       "  'video_id': 'K4wEI5zhHB0',\n",
       "  'title': 'iPhone X — Introducing iPhone X — Apple'},\n",
       " {'_id': ObjectId('61b88eea4b2e1a014f9511e4'),\n",
       "  'video_id': 'K4wEI5zhHB0',\n",
       "  'title': 'iPhone X — Introducing iPhone X — Apple'},\n",
       " {'_id': ObjectId('61b88eea4b2e1a014f951280'),\n",
       "  'video_id': 'A9k88sMyiJM',\n",
       "  'title': 'Apple Watch Series 3 + Apple Music — Roll — Apple'},\n",
       " {'_id': ObjectId('61b88eea4b2e1a014f95136d'),\n",
       "  'video_id': 'A9k88sMyiJM',\n",
       "  'title': 'Apple Watch Series 3 + Apple Music — Roll — Apple'},\n",
       " {'_id': ObjectId('61b88eea4b2e1a014f95145d'),\n",
       "  'video_id': 'A9k88sMyiJM',\n",
       "  'title': 'Apple Watch Series 3 + Apple Music — Roll — Apple'},\n",
       " {'_id': ObjectId('61b88eea4b2e1a014f951e27'),\n",
       "  'video_id': 'REZl-ANYKKY',\n",
       "  'title': 'iPhone 8 Plus — Portraits of Her  — Apple'},\n",
       " {'_id': ObjectId('61b88eea4b2e1a014f951f18'),\n",
       "  'video_id': 'REZl-ANYKKY',\n",
       "  'title': 'iPhone 8 Plus — Portraits of Her  — Apple'},\n",
       " {'_id': ObjectId('61b88eea4b2e1a014f952016'),\n",
       "  'video_id': 'REZl-ANYKKY',\n",
       "  'title': 'iPhone 8 Plus — Portraits of Her  — Apple'}]"
      ]
     },
     "execution_count": 15,
     "metadata": {},
     "output_type": "execute_result"
    }
   ],
   "source": [
    "#recherche des titre de video de la chaine \"apple\"\n",
    "cur = collection_yt.find({\"channel_title\" :  \"Apple\"}, {\"title\":1, \"video_id\":1})\n",
    "list(cur)"
   ]
  },
  {
   "cell_type": "markdown",
   "metadata": {},
   "source": [
    "## Question 2"
   ]
  },
  {
   "cell_type": "code",
   "execution_count": 20,
   "metadata": {},
   "outputs": [
    {
     "data": {
      "text/plain": [
       "16"
      ]
     },
     "execution_count": 20,
     "metadata": {},
     "output_type": "execute_result"
    }
   ],
   "source": [
    "#compter le nombre de categori différentes\n",
    "cur = collection_yt.aggregate([{\"$group\" : {\"_id\" : \"$category_id\"}}])\n",
    "len(list(cur))"
   ]
  },
  {
   "cell_type": "markdown",
   "metadata": {},
   "source": [
    "## Question 3"
   ]
  },
  {
   "cell_type": "markdown",
   "metadata": {},
   "source": [
    "## Question 4"
   ]
  },
  {
   "cell_type": "code",
   "execution_count": 25,
   "metadata": {},
   "outputs": [
    {
     "data": {
      "text/plain": [
       "[{'_id': ObjectId('61b88eea4b2e1a014f9515ce'),\n",
       "  'title': \"BTS (방탄소년단) 'DNA' Official MV\",\n",
       "  'channel_title': 'ibighit',\n",
       "  'views': 41500672},\n",
       " {'_id': ObjectId('61b88eea4b2e1a014f9514f9'),\n",
       "  'title': \"BTS (방탄소년단) 'DNA' Official MV\",\n",
       "  'channel_title': 'ibighit',\n",
       "  'views': 38013692},\n",
       " {'_id': ObjectId('61b88eea4b2e1a014f950f0c'),\n",
       "  'title': 'ZAYN - Dusk Till Dawn ft. Sia',\n",
       "  'channel_title': 'ZaynVEVO',\n",
       "  'views': 36323498},\n",
       " {'_id': ObjectId('61b88eea4b2e1a014f952a3a'),\n",
       "  'title': 'Eminem Rips Donald Trump In BET Hip Hop Awards Freestyle Cypher',\n",
       "  'channel_title': 'BETNetworks',\n",
       "  'views': 33191594},\n",
       " {'_id': ObjectId('61b88eea4b2e1a014f952960'),\n",
       "  'title': 'Eminem Rips Donald Trump In BET Hip Hop Awards Freestyle Cypher',\n",
       "  'channel_title': 'BETNetworks',\n",
       "  'views': 32512343},\n",
       " {'_id': ObjectId('61b88eea4b2e1a014f951626'),\n",
       "  'title': 'Shakira - Perro Fiel (Official Video) ft. Nicky Jam',\n",
       "  'channel_title': 'shakiraVEVO',\n",
       "  'views': 32136948},\n",
       " {'_id': ObjectId('61b88eea4b2e1a014f95286b'),\n",
       "  'title': 'Eminem Rips Donald Trump In BET Hip Hop Awards Freestyle Cypher',\n",
       "  'channel_title': 'BETNetworks',\n",
       "  'views': 31636010},\n",
       " {'_id': ObjectId('61b88eea4b2e1a014f9513fb'),\n",
       "  'title': \"BTS (방탄소년단) 'DNA' Official MV\",\n",
       "  'channel_title': 'ibighit',\n",
       "  'views': 30424471},\n",
       " {'_id': ObjectId('61b88eea4b2e1a014f95277a'),\n",
       "  'title': 'Eminem Rips Donald Trump In BET Hip Hop Awards Freestyle Cypher',\n",
       "  'channel_title': 'BETNetworks',\n",
       "  'views': 30224787},\n",
       " {'_id': ObjectId('61b88eea4b2e1a014f952697'),\n",
       "  'title': 'Eminem Rips Donald Trump In BET Hip Hop Awards Freestyle Cypher',\n",
       "  'channel_title': 'BETNetworks',\n",
       "  'views': 28212358}]"
      ]
     },
     "execution_count": 25,
     "metadata": {},
     "output_type": "execute_result"
    }
   ],
   "source": [
    "#recuperer les 10 videos les plus vues\n",
    "cur = collection_yt.find({}, {\"title\":1, \"channel_title\":1, \"views\":1}).sort([(\"views\",-1)])[:10]\n",
    "list(cur)"
   ]
  },
  {
   "cell_type": "markdown",
   "metadata": {},
   "source": [
    "## Question 5"
   ]
  },
  {
   "cell_type": "code",
   "execution_count": 26,
   "metadata": {},
   "outputs": [
    {
     "data": {
      "text/plain": [
       "[{'_id': 20, 'averageViewCatergorie': 681081.8170731707},\n",
       " {'_id': 1, 'averageViewCatergorie': 1039472.6560846561},\n",
       " {'_id': 19, 'averageViewCatergorie': 464041.0833333333},\n",
       " {'_id': 27, 'averageViewCatergorie': 547582.4700598803},\n",
       " {'_id': 25, 'averageViewCatergorie': 540955.5569823436},\n",
       " {'_id': 28, 'averageViewCatergorie': 924730.548828125},\n",
       " {'_id': 22, 'averageViewCatergorie': 971532.7573696146},\n",
       " {'_id': 2, 'averageViewCatergorie': 607693.8706896552},\n",
       " {'_id': 17, 'averageViewCatergorie': 728434.3243902439},\n",
       " {'_id': 10, 'averageViewCatergorie': 1176553.612},\n",
       " {'_id': 43, 'averageViewCatergorie': 8492.5},\n",
       " {'_id': 26, 'averageViewCatergorie': 537665.1806674339},\n",
       " {'_id': 23, 'averageViewCatergorie': 1240073.294039735},\n",
       " {'_id': 24, 'averageViewCatergorie': 1154868.4397251718},\n",
       " {'_id': 15, 'averageViewCatergorie': 651404.3879310344},\n",
       " {'_id': 29, 'averageViewCatergorie': 1110334.2142857143}]"
      ]
     },
     "execution_count": 26,
     "metadata": {},
     "output_type": "execute_result"
    }
   ],
   "source": [
    "#calcule de la moyenne de vue par categorie\n",
    "cur = collection_yt.aggregate([{\"$group\" : {\"_id\" : \"$category_id\", \"averageViewCatergorie\" : {\"$avg\" : \"$views\"}}}])\n",
    "list(cur)"
   ]
  },
  {
   "cell_type": "markdown",
   "metadata": {},
   "source": [
    "## Question 6 "
   ]
  },
  {
   "cell_type": "code",
   "execution_count": 63,
   "metadata": {},
   "outputs": [
    {
     "data": {
      "text/plain": [
       "[{'_id': 'ZaynVEVO', 'averageLikePerVideo': 1431683.0},\n",
       " {'_id': 'ibighit', 'averageLikePerVideo': 1371766.25},\n",
       " {'_id': 'melanie martinez', 'averageLikePerVideo': 911871.5},\n",
       " {'_id': 'BETNetworks', 'averageLikePerVideo': 769687.625},\n",
       " {'_id': 'jypentertainment', 'averageLikePerVideo': 758826.6666666666}]"
      ]
     },
     "execution_count": 63,
     "metadata": {},
     "output_type": "execute_result"
    }
   ],
   "source": [
    "#chaine youtube avec la plus grande moyenne de like\n",
    "cur = collection_yt.aggregate(\n",
    "    [\n",
    "        \n",
    "        {\n",
    "            \"$group\" : \n",
    "            {\n",
    "                \"_id\" : \"$channel_title\", \n",
    "                \"averageLikePerVideo\" :\n",
    "                    {\n",
    "                        \"$avg\": \"$likes\"\n",
    "                    }\n",
    "            }\n",
    "        },\n",
    "        {\n",
    "            \"$sort\": \n",
    "            {\n",
    "                \"averageLikePerVideo\": -1\n",
    "            }\n",
    "        },\n",
    "        {\n",
    "            \"$limit\": 5\n",
    "        },\n",
    "    ]\n",
    ")\n",
    "list(cur)"
   ]
  },
  {
   "cell_type": "code",
   "execution_count": 48,
   "metadata": {},
   "outputs": [
    {
     "ename": "TypeError",
     "evalue": "'>' not supported between instances of 'dict' and 'dict'",
     "output_type": "error",
     "traceback": [
      "\u001b[0;31m---------------------------------------------------------------------------\u001b[0m",
      "\u001b[0;31mTypeError\u001b[0m                                 Traceback (most recent call last)",
      "\u001b[0;32m/tmp/ipykernel_104/384861025.py\u001b[0m in \u001b[0;36m<module>\u001b[0;34m\u001b[0m\n\u001b[0;32m----> 1\u001b[0;31m \u001b[0mmax\u001b[0m\u001b[0;34m(\u001b[0m\u001b[0mlist\u001b[0m\u001b[0;34m(\u001b[0m\u001b[0mcur\u001b[0m\u001b[0;34m)\u001b[0m\u001b[0;34m)\u001b[0m\u001b[0;34m\u001b[0m\u001b[0;34m\u001b[0m\u001b[0m\n\u001b[0m",
      "\u001b[0;31mTypeError\u001b[0m: '>' not supported between instances of 'dict' and 'dict'"
     ]
    }
   ],
   "source": [
    "max(list(cur))"
   ]
  }
 ],
 "metadata": {
  "kernelspec": {
   "display_name": "Python 3 (ipykernel)",
   "language": "python",
   "name": "python3"
  },
  "language_info": {
   "codemirror_mode": {
    "name": "ipython",
    "version": 3
   },
   "file_extension": ".py",
   "mimetype": "text/x-python",
   "name": "python",
   "nbconvert_exporter": "python",
   "pygments_lexer": "ipython3",
   "version": "3.8.12"
  }
 },
 "nbformat": 4,
 "nbformat_minor": 2
}
